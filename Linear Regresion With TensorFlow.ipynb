{
 "cells": [
  {
   "cell_type": "code",
   "execution_count": 1,
   "id": "2ab907a1-b9d1-4065-b5e7-ab7b5802afc6",
   "metadata": {},
   "outputs": [
    {
     "name": "stdout",
     "output_type": "stream",
     "text": [
      "WARNING:tensorflow:From C:\\Users\\Vestora Lab\\AppData\\Local\\Temp\\ipykernel_5624\\2719521133.py:5: The name tf.disable_eager_execution is deprecated. Please use tf.compat.v1.disable_eager_execution instead.\n",
      "\n"
     ]
    }
   ],
   "source": [
    "import numpy as np\n",
    "import matplotlib.pyplot as plt\n",
    "import tensorflow as tf\n",
    "\n",
    "tf.compat.v1.disable_eager_execution()"
   ]
  },
  {
   "cell_type": "markdown",
   "id": "c2ceeb5a-e685-4744-8284-8e41292c75b2",
   "metadata": {},
   "source": [
    "Data Generation"
   ]
  },
  {
   "cell_type": "code",
   "execution_count": 2,
   "id": "a4cd0c24-d6a8-4e79-baf9-425b38b7c08a",
   "metadata": {},
   "outputs": [],
   "source": [
    "observations = 1000\n",
    "\n",
    "x = np.random.uniform(-10,10,(observations,1))\n",
    "z = np.random.uniform(-10,10,(observations,1))\n",
    "\n",
    "generated_inputs = np.column_stack((x,z))\n",
    "\n",
    "noise = np.random.uniform(-1,1,(observations,1))\n",
    "\n",
    "generated_targets = 4*x - 2*z + 7 + noise\n",
    "\n",
    "np.savez('TF_introduction', inputs = generated_inputs, targets = generated_targets)"
   ]
  },
  {
   "cell_type": "markdown",
   "id": "1d79ddf5-57dd-441d-9e4a-53b5f6748ead",
   "metadata": {},
   "source": [
    "Solving with TensorFlow"
   ]
  },
  {
   "cell_type": "code",
   "execution_count": 3,
   "id": "0fa088d3-8404-468d-83d0-1abc0bb8dffa",
   "metadata": {},
   "outputs": [],
   "source": [
    "input_size = 2\n",
    "output_size = 1"
   ]
  },
  {
   "cell_type": "markdown",
   "id": "0eda4727-b7e4-4b9e-b33c-615e1a20fc90",
   "metadata": {},
   "source": [
    "Outlining the model"
   ]
  },
  {
   "cell_type": "code",
   "execution_count": 4,
   "id": "9a22b55f-142e-4637-8fde-d0e4caab93c6",
   "metadata": {},
   "outputs": [],
   "source": [
    "# inputs = tf.placeholder(tf.float32,[None, input_size])\n",
    "# targets = tf.placeholder(tf.float32,[None, output_size])\n",
    "\n",
    "# weights = tf.Variable(tf.random_uniform([input_size, output_size], minval = -0.1, maxval = 0.1))\n",
    "# biases = tf.Variable(tf.random_uniform([output_size], minval = -0.1, maxval = 0.1))\n",
    "\n",
    "# outputs = tf.matmul(inputs,weights) + biases\n",
    "\n",
    "inputs = tf.compat.v1.placeholder(tf.float32, [None, input_size])\n",
    "targets = tf.compat.v1.placeholder(tf.float32, [None, output_size])\n",
    "\n",
    "weights = tf.Variable(tf.random.uniform([input_size, output_size], minval=-0.1, maxval=0.1))\n",
    "biases = tf.Variable(tf.random.uniform([output_size], minval=-0.1, maxval=0.1))\n",
    "\n",
    "outputs = tf.matmul(inputs, weights) + biases"
   ]
  },
  {
   "cell_type": "markdown",
   "id": "3ffd7817-1011-4876-bbfd-e7d5b2bfdc13",
   "metadata": {},
   "source": [
    "Choosing the objective function and the optimization method"
   ]
  },
  {
   "cell_type": "code",
   "execution_count": 5,
   "id": "0bdab6d2-ec78-4a4d-8220-87dc86c244b0",
   "metadata": {},
   "outputs": [
    {
     "name": "stdout",
     "output_type": "stream",
     "text": [
      "WARNING:tensorflow:From C:\\Users\\Vestora Lab\\AppData\\Local\\Temp\\ipykernel_5624\\442606942.py:1: The name tf.losses.mean_squared_error is deprecated. Please use tf.compat.v1.losses.mean_squared_error instead.\n",
      "\n",
      "WARNING:tensorflow:From C:\\Users\\Vestora Lab\\AppData\\Local\\Temp\\ipykernel_5624\\442606942.py:3: The name tf.train.GradientDescentOptimizer is deprecated. Please use tf.compat.v1.train.GradientDescentOptimizer instead.\n",
      "\n"
     ]
    }
   ],
   "source": [
    "mean_loss = tf.compat.v1.losses.mean_squared_error(labels=targets,predictions=outputs) / 2.\n",
    "\n",
    "optimize = tf.compat.v1.train.GradientDescentOptimizer(learning_rate = 0.05).minimize(mean_loss)"
   ]
  },
  {
   "cell_type": "code",
   "execution_count": 6,
   "id": "d6e4169c-ba47-45c1-b166-efd68f0764a6",
   "metadata": {},
   "outputs": [],
   "source": [
    "sess = tf.compat.v1.InteractiveSession()"
   ]
  },
  {
   "cell_type": "markdown",
   "id": "a69c76e9-5854-4304-8c06-841b875b31c6",
   "metadata": {},
   "source": [
    "Initializing variables"
   ]
  },
  {
   "cell_type": "code",
   "execution_count": 7,
   "id": "5c256c8a-170a-4f33-978d-99b4cd2a82e7",
   "metadata": {},
   "outputs": [],
   "source": [
    "initializer = tf.compat.v1.global_variables_initializer()\n",
    "sess.run(initializer)"
   ]
  },
  {
   "cell_type": "markdown",
   "id": "778b0390-33a4-4c87-8d36-601bcd1efa79",
   "metadata": {},
   "source": [
    "Loading training data\n"
   ]
  },
  {
   "cell_type": "code",
   "execution_count": 8,
   "id": "f424ebeb-374d-43d1-a060-28fc0752b041",
   "metadata": {},
   "outputs": [],
   "source": [
    "training_data = np.load('TF_introduction.npz')"
   ]
  },
  {
   "cell_type": "markdown",
   "id": "ca519b7c-7463-4913-8ece-4d319ac7e68d",
   "metadata": {},
   "source": [
    "Learning"
   ]
  },
  {
   "cell_type": "code",
   "execution_count": 9,
   "id": "d6002f16-d5f1-4706-9b34-95c3b68e5a21",
   "metadata": {},
   "outputs": [
    {
     "name": "stdout",
     "output_type": "stream",
     "text": [
      "353.90625\n",
      "162.36188\n",
      "79.808945\n",
      "43.586235\n",
      "27.18007\n",
      "19.32386\n",
      "15.209312\n",
      "12.773496\n",
      "11.125096\n",
      "9.874672\n",
      "8.848745\n",
      "7.967279\n",
      "7.1910286\n",
      "6.498838\n",
      "5.8777723\n",
      "5.318847\n",
      "4.8151016\n",
      "4.360768\n",
      "3.9508595\n",
      "3.5809686\n",
      "3.2471638\n",
      "2.9459133\n",
      "2.674034\n",
      "2.428664\n",
      "2.2072136\n",
      "2.0073543\n",
      "1.8269786\n",
      "1.6641876\n",
      "1.5172662\n",
      "1.3846691\n",
      "1.2649978\n",
      "1.1569933\n",
      "1.059518\n",
      "0.97154605\n",
      "0.8921498\n",
      "0.8204935\n",
      "0.7558229\n",
      "0.69745713\n",
      "0.6447808\n",
      "0.5972403\n",
      "0.5543343\n",
      "0.5156108\n",
      "0.48066345\n",
      "0.44912246\n",
      "0.4206563\n",
      "0.3949653\n",
      "0.37177876\n",
      "0.35085255\n",
      "0.3319667\n",
      "0.31492192\n",
      "0.299539\n",
      "0.28565517\n",
      "0.27312523\n",
      "0.26181695\n",
      "0.25161082\n",
      "0.2424\n",
      "0.23408677\n",
      "0.22658403\n",
      "0.21981296\n",
      "0.21370204\n",
      "0.20818654\n",
      "0.20320904\n",
      "0.19871655\n",
      "0.19466205\n",
      "0.19100282\n",
      "0.1877004\n",
      "0.18471986\n",
      "0.18202993\n",
      "0.1796022\n",
      "0.17741114\n",
      "0.17543362\n",
      "0.17364901\n",
      "0.17203838\n",
      "0.17058471\n",
      "0.16927268\n",
      "0.16808872\n",
      "0.1670201\n",
      "0.16605571\n",
      "0.16518527\n",
      "0.1643997\n",
      "0.16369073\n",
      "0.16305089\n",
      "0.16247346\n",
      "0.16195221\n",
      "0.1614819\n",
      "0.16105734\n",
      "0.16067417\n",
      "0.16032843\n",
      "0.16001634\n",
      "0.15973471\n",
      "0.15948047\n",
      "0.15925112\n",
      "0.15904407\n",
      "0.15885718\n",
      "0.1586886\n",
      "0.15853637\n",
      "0.15839902\n",
      "0.15827502\n",
      "0.15816315\n",
      "0.15806217\n"
     ]
    }
   ],
   "source": [
    "for e in range(100):\n",
    "    _, curr_loss = sess.run([optimize, mean_loss],\n",
    "                           feed_dict = {inputs:training_data['inputs'],targets: training_data['targets']})\n",
    "\n",
    "    print(curr_loss)"
   ]
  },
  {
   "cell_type": "code",
   "execution_count": 10,
   "id": "593244a1-a16a-4b54-bdbb-dc19826acd90",
   "metadata": {},
   "outputs": [
    {
     "data": {
      "image/png": "[encoded data removed]",
      "text/plain": [
       "<Figure size 640x480 with 1 Axes>"
      ]
     },
     "metadata": {},
     "output_type": "display_data"
    }
   ],
   "source": [
    "out = sess.run([outputs],\n",
    "              feed_dict={inputs: training_data['inputs']})\n",
    "plt.plot(np.squeeze(out), np.squeeze(training_data['targets']))\n",
    "plt.xlabel('outputs')\n",
    "plt.ylabel('targets')\n",
    "plt.show()"
   ]
  },
  {
   "cell_type": "code",
   "execution_count": null,
   "id": "7a9429bb-274b-468e-a129-f0e31a6fdfb9",
   "metadata": {},
   "outputs": [],
   "source": []
  }
 ],
 "metadata": {
  "kernelspec": {
   "display_name": "Python 3 (ipykernel)",
   "language": "python",
   "name": "python3"
  },
  "language_info": {
   "codemirror_mode": {
    "name": "ipython",
    "version": 3
   },
   "file_extension": ".py",
   "mimetype": "text/x-python",
   "name": "python",
   "nbconvert_exporter": "python",
   "pygments_lexer": "ipython3",
   "version": "3.12.7"
  }
 },
 "nbformat": 4,
 "nbformat_minor": 5
}
